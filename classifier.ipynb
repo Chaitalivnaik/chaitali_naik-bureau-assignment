{
 "cells": [
  {
   "cell_type": "code",
   "execution_count": 1,
   "metadata": {},
   "outputs": [],
   "source": [
    "#import all the necessary modules\n",
    "import os\n",
    "\n",
    "from fastai.vision.all import *\n",
    "from fastai.vision import *\n",
    "\n",
    "import pandas as pd"
   ]
  },
  {
   "cell_type": "code",
   "execution_count": 2,
   "metadata": {},
   "outputs": [],
   "source": [
    "def create_labels_csv_file(dataset_path: str) -> None:\n",
    "    class_names = [] # get a list of sub_directories in dataset as class names\n",
    "    for folder_name in os.listdir(dataset_path):\n",
    "        class_names.append(folder_name)\n",
    "\n",
    "    image_paths = []\n",
    "    labels = []\n",
    "\n",
    "    # loop through each class i.e train and valid and gather image paths and labels\n",
    "    for i in range(len(class_names)):\n",
    "        class_name = class_names[i]\n",
    "\n",
    "        if '.csv' in os.path.basename(class_name):# skip if it's a CSV file \n",
    "            continue\n",
    "        image_names = os.listdir(\n",
    "            os.path.join(\n",
    "                dataset_path,\n",
    "                class_name\n",
    "            )\n",
    "        )\n",
    "\n",
    "        # collect image paths and corresponding labels\n",
    "        for image_name in image_names:\n",
    "            image_path = os.path.join(\n",
    "                dataset_path,\n",
    "                class_name,\n",
    "                image_name\n",
    "            )\n",
    "            image_paths.append(image_path)\n",
    "            labels.append(i)\n",
    "\n",
    "    # create a DataFrame from the collected data\n",
    "    df = pd.DataFrame(\n",
    "        {\n",
    "            'name': image_paths,\n",
    "            'label': labels\n",
    "        }\n",
    "    )\n",
    "\n",
    "    # save the DataFrame in a CSV file\n",
    "    df.to_csv(\n",
    "        path_or_buf=os.path.join(\n",
    "            dataset_path,\n",
    "            'labels.csv'\n",
    "        ),\n",
    "        index=False\n",
    "    )"
   ]
  },
  {
   "cell_type": "code",
   "execution_count": 3,
   "metadata": {},
   "outputs": [],
   "source": [
    "# create CSV file for train dataset\n",
    "create_labels_csv_file(\n",
    "    dataset_path=os.path.join(\n",
    "        'data',\n",
    "        'train'\n",
    "    )\n",
    ")\n",
    "\n",
    "# create CSV file for valid dataset\n",
    "create_labels_csv_file(\n",
    "    dataset_path=os.path.join(\n",
    "        'data',\n",
    "        'valid'\n",
    "    )\n",
    ")"
   ]
  },
  {
   "cell_type": "code",
   "execution_count": 4,
   "metadata": {},
   "outputs": [
    {
     "name": "stderr",
     "output_type": "stream",
     "text": [
      "c:\\Users\\Chaitali\\AppData\\Local\\Programs\\Python\\Python311\\Lib\\site-packages\\fastai\\torch_core.py:263: UserWarning: 'has_mps' is deprecated, please use 'torch.backends.mps.is_built()'\n",
      "  return getattr(torch, 'has_mps', False)\n"
     ]
    }
   ],
   "source": [
    "# Define data loader\n",
    "dls = ImageDataLoaders.from_folder(\n",
    "    path='data',         # Path to the main dataset folder\n",
    "    train='train',       # Path to the train folder\n",
    "    valid='valid',       # Path to the valid folder\n",
    "    item_tfms=Resize(224),  # Resize images to 224x224 pixels\n",
    "    bs=16,                  # Batch size\n",
    "    batch_tfms=[Normalize.from_stats(*imagenet_stats), RandTransform()]  # Batch transformations(augmentation)\n",
    ")"
   ]
  }
 ],
 "metadata": {
  "kernelspec": {
   "display_name": "Python 3",
   "language": "python",
   "name": "python3"
  },
  "language_info": {
   "codemirror_mode": {
    "name": "ipython",
    "version": 3
   },
   "file_extension": ".py",
   "mimetype": "text/x-python",
   "name": "python",
   "nbconvert_exporter": "python",
   "pygments_lexer": "ipython3",
   "version": "3.11.3"
  }
 },
 "nbformat": 4,
 "nbformat_minor": 2
}
